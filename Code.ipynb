{
 "cells": [
  {
   "cell_type": "code",
   "execution_count": 215,
   "metadata": {},
   "outputs": [],
   "source": [
    "# Import packages for calculation and plotting\n",
    "import numpy as np\n",
    "import matplotlib.pyplot as plt\n",
    "import seaborn as sns \n",
    "# Time package for performance measurements\n",
    "import time\n",
    "# Statistics package for rare event simulation\n",
    "from scipy.stats import norm\n",
    "# Pandas for convenient table export\n",
    "import pandas as pd\n",
    "# Settings for seaborn plots\n",
    "sns.set()\n",
    "sns.set_context(\"paper\")\n",
    "sns.set_style(\"whitegrid\")"
   ]
  },
  {
   "cell_type": "markdown",
   "metadata": {},
   "source": [
    "# Analysis of braking behviour in shunting\n",
    "Shunting brake instructions differ widely from mainline in that according to \n",
    "\n",
    "- DB guideline 915, up to 40 wheelsets\n",
    "- BAV R 300.4, up to 5 times the mass of the locomotive\n",
    "\n",
    "can be shunted without continuous air brake, depending on gradient."
   ]
  },
  {
   "cell_type": "markdown",
   "metadata": {},
   "source": [
    "***\n",
    "\n",
    "## Function definitions"
   ]
  },
  {
   "cell_type": "markdown",
   "metadata": {},
   "source": [
    "### Instantaneous friction coefficient acc. to Karwatzki\n",
    "\n",
    "Especially at low velocities, the variation in brake block friction are high and have to be accounted for. Karwatzki formula can be used to approximate instantaneous friction coefficients.\n",
    "\n",
    "$$\\mu(F_{block}, v) = k_1 \\left(\\frac{F_{block} + k_2}{F_{block} + k_3} \\right)\\left(\\frac{v + k_4}{v + k_5} \\right)$$"
   ]
  },
  {
   "cell_type": "code",
   "execution_count": 2,
   "metadata": {
    "code_folding": [
     0
    ]
   },
   "outputs": [],
   "source": [
    "# Friction value function according to Karwatzki formula\n",
    "def muBr(v,F):\n",
    "    # Karwatzki parameter (composite blocks)\n",
    "    k1 = 0.055\n",
    "    k2 = 200000 #N\n",
    "    k3 = 50000 #N\n",
    "    k4 = 150/3.6 #m/s\n",
    "    k5 = 75/3.6 #m/s\n",
    "    return k1 * (F+k2)/(F+k3) * (v+k4)/(v+k5)"
   ]
  },
  {
   "cell_type": "markdown",
   "metadata": {},
   "source": [
    "### Braking Calculation for shunting cases\n",
    "\n",
    "#### Parameters\n",
    "\n",
    "The function applies the following parameters:\n",
    "\n",
    "- $d_t$: time step for discretisation in *s*\n",
    "- $c$: Propagation velocity in brake pipe in *m/s*\n",
    "\n",
    "#### Input data\n",
    "\n",
    "The function accepts a dictionary with the following fields:\n",
    "\n",
    "- $v_0$: Initial velocity\n",
    "- Locomotive data:\n",
    "\n",
    "    - $m_{Loco}$: Mass\n",
    "    - $F_{Loco}$: Braking force\n",
    "    - $l_{Loco}$: Length\n",
    "    - $tf_{Loco}$: Loco filling time\n",
    "    - $G_{Loco}$: True if brake mode of locomotive is set to G\n",
    "\n",
    "- $m$: Mass of individual wagons in *kg*\n",
    "- $m_{rot}$: Dynamic augment on wagon mass for rotating masses\n",
    "- $G$: True if brake mode of individual wagon is set to G\n",
    "- $C_{dia}$: Cylinder diameter in *m*\n",
    "- $p$: Brake cylinder pressure in *Pa*\n",
    "- $l$: Wagons length in *m*\n",
    "- $i$: Brake rigging ratio\n",
    "- $\\eta$: Brake rigging efficiency\n",
    "- $t_f$: Filling time in *s*\n",
    "- $n$:  Number of brake blocks\n",
    "- $\\mu_C$: Correction factor for friction variation\n",
    "\n",
    "All fields accept lists as input to express the individual wagons in the train set  \n",
    "\n",
    "#### Operation\n",
    "\n",
    "1. Initialise data\n",
    "1. According to position in the train, the filling time is increased to express the delay by the propagation\n",
    "1. While the simulation yields a velocity above 0:\n",
    "\n",
    "    - For each wagon, calculate the brake cylinder force Fc\n",
    "    - While within filling time, calculate cylinder force proportion acc. to:\n",
    "   \n",
    "        * if in brake mode G, immediately apply 10% of the brake cylinder pressure\n",
    "        * linearly increase pressure depending on time\n",
    "    \n",
    "    - Calculate block force\n",
    "    - Calculate instantaneous friction coefficient acc. to Karwatzki\n",
    "    - Calculate resistance acc. to Strahl\n",
    "    - Update velocity and distance\n",
    "  \n",
    "1. Return braking distance\n",
    "    \n",
    "    "
   ]
  },
  {
   "cell_type": "code",
   "execution_count": 270,
   "metadata": {
    "code_folding": []
   },
   "outputs": [],
   "source": [
    "def ShuntingBrakeCalculation(data):\n",
    "    c = 250 # brake propagation velocity\n",
    "    #FL = FLoco #Loco braking force\n",
    "    dt = 0.01\n",
    "    s = 0\n",
    "    t = 0\n",
    "    # Import data from input\n",
    "    v = data['v0']\n",
    "    mloco = data['mloco']\n",
    "    Floco = data['Floco']\n",
    "    lloco = data['lloco']\n",
    "    tfloco = data['tfloco']\n",
    "    gloco = data['Gloco']\n",
    "    m = data['m']\n",
    "    mrot = data['mrot']\n",
    "    tf = data['tf']\n",
    "    gmode = data['G']\n",
    "    cdia = data['Cdia']\n",
    "    p = data['p']\n",
    "    l = data['l']\n",
    "    i = data['i']\n",
    "    n = data['n']\n",
    "    eta = data['eta']\n",
    "    muc = data['muc']\n",
    "    # Correct filling time according to position in train\n",
    "    for k in range(len(l)):\n",
    "        tf[k] = tf[k] + (lloco + np.sum(l[0:k]))/c\n",
    "    \n",
    "    while v > 0:\n",
    "        F = [] # List for vehicle Forces\n",
    "        # Treat locomotive\n",
    "        if t < tfloco: # Respect filling time\n",
    "                # 10% immediate pressure in brake mode G\n",
    "            if bool(gloco):\n",
    "                fill = 0.1+0.9*(t/tfloco)\n",
    "            else: # Linear behaivour in P\n",
    "                fill = t/tfloco\n",
    "        else:\n",
    "            fill = 1 #Fully filled after tf\n",
    "        F.append(Floco*fill)\n",
    "        for k in range(len(l)): # Process wagon k\n",
    "            #Cylinder force\n",
    "            Fc = p[k]*np.pi*cdia[k]*cdia[k]/4-1500 #Return force\n",
    "            if t < tf[k]: # Respect filling time\n",
    "                # 10% immediate pressure in brake mode G\n",
    "                if bool(gmode[k]):\n",
    "                    fill = 0.1+0.9*(t/tf[k])\n",
    "                else: # Linear behaivour in P\n",
    "                    fill = t/tf[k]\n",
    "                #Force for all blocks\n",
    "                Fblocks = Fc*fill*i[k]\n",
    "                #Friction according to Karwatzki formula\n",
    "                F.append(Fblocks*muBr(v, Fblocks/n[k])*eta[k]*muc[k])\n",
    "            else:\n",
    "                Fblocks = Fc*i[k]\n",
    "                F.append(Fblocks*muBr(v, Fblocks/n[k])*eta[k]*muc[k])\n",
    "        # Braking force from individual wagons and Strahl ride resistance\n",
    "        FB = np.sum(F) + (1.6e-3+5.7e-3*(v/27.8)**2)*np.sum(m)*9.81\n",
    "        # Update, wagon mass increased by dynamical augment\n",
    "        v = v - (Floco + FB)/(mloco + np.sum(np.multiply(mrot, m)))*dt\n",
    "        s = s + v*dt\n",
    "        t = t + dt\n",
    "    return s"
   ]
  },
  {
   "cell_type": "markdown",
   "metadata": {},
   "source": [
    "***\n",
    "## Braking behaviour modelling\n",
    "\n",
    "### Locomotive subsystem"
   ]
  },
  {
   "cell_type": "markdown",
   "metadata": {},
   "source": [
    "Example locomotive DB class 363 (V60):\n",
    "\n",
    "- Mass: 53 t\n",
    "- Braked Weight: P 56 t, G 33t\n",
    "- Braked weight percentage $\\lambda_{Loco}$ to be determined"
   ]
  },
  {
   "cell_type": "code",
   "execution_count": 5,
   "metadata": {
    "code_folding": []
   },
   "outputs": [
    {
     "name": "stdout",
     "output_type": "stream",
     "text": [
      "Lambda_{Loco} = 105 %\n"
     ]
    }
   ],
   "source": [
    "# Locomotive base data\n",
    "mLoco = 53000\n",
    "lambdaLoco = np.floor(56/53*100)\n",
    "print('Lambda_{Loco} = '+str(int(lambdaLoco)) + ' %' )"
   ]
  },
  {
   "cell_type": "markdown",
   "metadata": {},
   "source": [
    "***\n",
    "#### Determining resulting deceleration\n",
    "\n",
    "##### Following UIC 544-1 (App. H.4)\n",
    "\n",
    "Brake assessment for vehicles with $v_{max} < 100$ km/h."
   ]
  },
  {
   "cell_type": "markdown",
   "metadata": {},
   "source": [
    "Stopping distance from $v_0 = 16.67$ m/s according to UIC 544-1 (App. H.4):"
   ]
  },
  {
   "cell_type": "code",
   "execution_count": 6,
   "metadata": {},
   "outputs": [
    {
     "name": "stdout",
     "output_type": "stream",
     "text": [
      "s_{60} = 160.4 m\n"
     ]
    }
   ],
   "source": [
    "v0 = 60/3.6\n",
    "s60 = np.round(18400/(lambdaLoco+9.7), decimals = 1)\n",
    "print('s_{60} = ' + str(s60) + ' m')"
   ]
  },
  {
   "cell_type": "markdown",
   "metadata": {},
   "source": [
    "Determine braking distance from $v_0$ with respect to filling time (step model with $\\frac{t_f}{2}$)."
   ]
  },
  {
   "cell_type": "code",
   "execution_count": 7,
   "metadata": {},
   "outputs": [
    {
     "name": "stdout",
     "output_type": "stream",
     "text": [
      "b_{60} = 127.1 m\n"
     ]
    }
   ],
   "source": [
    "tf = 4\n",
    "b60 = np.round(s60 - v0*tf/2, decimals = 1)\n",
    "print('b_{60} = ' + str(b60) + ' m')"
   ]
  },
  {
   "cell_type": "markdown",
   "metadata": {},
   "source": [
    "Resulting deceleration"
   ]
  },
  {
   "cell_type": "code",
   "execution_count": 8,
   "metadata": {},
   "outputs": [
    {
     "name": "stdout",
     "output_type": "stream",
     "text": [
      "a_H = 1.09 m/s^2\n"
     ]
    }
   ],
   "source": [
    "aLocoH = np.round(v0**2/(2*b60), decimals = 2)\n",
    "print('a_H = ' + str(aLocoH) + ' m/s^2')"
   ]
  },
  {
   "cell_type": "markdown",
   "metadata": {},
   "source": [
    "##### Following UIC 544-1 (App. G 4.4)\n",
    "\n",
    "Deceleration for Train Protection Systems"
   ]
  },
  {
   "cell_type": "code",
   "execution_count": 9,
   "metadata": {
    "scrolled": true
   },
   "outputs": [
    {
     "name": "stdout",
     "output_type": "stream",
     "text": [
      "a_G = 0.86 m/s^2\n"
     ]
    }
   ],
   "source": [
    "aLocoG = np.round(0.0075*lambdaLoco+0.076, decimals = 2)\n",
    "print('a_G = ' + str(aLocoG) + ' m/s^2')"
   ]
  },
  {
   "cell_type": "markdown",
   "metadata": {},
   "source": [
    "#### Deceleration result\n",
    "\n",
    "The deceleration acc. to UIC 544-1, App. G 4.4 is the conservative estimate. The resulting locomotive retardation force $F_{Loco}$ is assumed for the sequel."
   ]
  },
  {
   "cell_type": "code",
   "execution_count": 10,
   "metadata": {},
   "outputs": [
    {
     "name": "stdout",
     "output_type": "stream",
     "text": [
      "F_{Loco} = 45.58 kN\n"
     ]
    }
   ],
   "source": [
    "aLoco = np.min((aLocoG, aLocoH))\n",
    "FLoco = mLoco*aLoco\n",
    "print('F_{Loco} = ' + str(1/1000*FLoco) + ' kN')"
   ]
  },
  {
   "cell_type": "markdown",
   "metadata": {},
   "source": [
    "***\n",
    "### Wagon subsystem\n",
    "\n",
    "The wagon subsystem in this case requires no reverse engineering. Data can be take from the brake calculations published in UIC 544-1."
   ]
  },
  {
   "cell_type": "markdown",
   "metadata": {},
   "source": [
    "***\n",
    "## Braking simulation\n",
    "\n",
    "### Single brake calculcation using data structure."
   ]
  },
  {
   "cell_type": "code",
   "execution_count": 132,
   "metadata": {
    "code_folding": [
     0
    ]
   },
   "outputs": [
    {
     "name": "stdout",
     "output_type": "stream",
     "text": [
      "Braking distance: 40.9 m\n"
     ]
    }
   ],
   "source": [
    "data = {'v0' : 25/3.6,\n",
    "        'mloco': 0,\n",
    "        'Floco': 0,\n",
    "        'lloco': 0,\n",
    "        'tfloco': 0,\n",
    "        'Gloco': 0,\n",
    "        'm' : [90000, 90000, 45000], # Mass of individual wagons\n",
    "        'mrot': [1.04], # Dynamic augment\n",
    "        'G' : [False, False, False], # G mode of individual wagon\n",
    "        'Cdia': [0.406, 0.406, 0.300], # Cylinder diameter\n",
    "        'p' : [3.8e5, 3.8e5, 3.8e5], \n",
    "        'l' : [13, 13, 17],\n",
    "        'i' : [6.5, 5.5, 6],\n",
    "        'eta' : [0.83, 0.83, 0.83],\n",
    "        'tf' : [4, 4, 4],\n",
    "        'n' : [16, 16, 8], # Number of brake blocks\n",
    "        'muc': [1, 1, 1] # Friction correction factor\n",
    "       }\n",
    "# Perform brake calculation\n",
    "s = ShuntingBrakeCalculation(data)\n",
    "# Print result\n",
    "print('Braking distance: ' +str(np.round(s, decimals = 1)) + ' m')"
   ]
  },
  {
   "cell_type": "markdown",
   "metadata": {},
   "source": [
    "### Monte Carlo Simulation"
   ]
  },
  {
   "cell_type": "code",
   "execution_count": 133,
   "metadata": {
    "code_folding": []
   },
   "outputs": [
    {
     "data": {
      "image/png": "[encoded data removed]",
      "text/plain": [
       "<Figure size 432x288 with 1 Axes>"
      ]
     },
     "metadata": {},
     "output_type": "display_data"
    }
   ],
   "source": [
    "v0 = 25/3.6\n",
    "N = 8 # Number of wagons\n",
    "M = 100 # Number of MC iterations\n",
    "slist = []\n",
    "for k in range(M):\n",
    "    # Generate random data\n",
    "    data = {'v0' : v0,\n",
    "            'mloco': 0,\n",
    "            'Floco': 0,\n",
    "            'lloco': 0,\n",
    "            'tfloco': 0,\n",
    "            'Gloco': 0,\n",
    "            'm' : 90000*np.ones(N), # Mass of individual wagons\n",
    "            'mrot': 1.04,\n",
    "            'G' : np.ones(N), # G mode of individual wagon\n",
    "            'Cdia': 0.406*np.ones(N), # Cylinder diameter\n",
    "            'p' : np.random.normal(loc = 3.8e5, scale = 3.3e3, size = N),\n",
    "            'l' : np.random.uniform(low = 11, high = 17, size = N),\n",
    "            'i' : 5.65*np.ones(N), \n",
    "            'eta' : np.random.normal(loc = 0.83, scale = 0.05, size = N),\n",
    "            'tf' : np.random.normal(loc = 24, scale = 2, size = N),\n",
    "            'n' : 16*np.ones(N), # Number of brake blocks\n",
    "            'muc': np.random.normal(loc = 1, scale = 0.025, size = N) # Friction correction factor\n",
    "           }\n",
    "    # Perform brake calculation\n",
    "    s = ShuntingBrakeCalculation(data)\n",
    "    slist.append(s)\n",
    "myplot = sns.histplot(slist, kde = True)"
   ]
  },
  {
   "cell_type": "markdown",
   "metadata": {},
   "source": [
    "## Model calibration\n",
    "\n",
    "Calibration was executed against slip test results published in Cantone and Ottati paper (http://dx.doi.org/10.2174/18744478018120100114). \n",
    "\n",
    "The transmission ratio $i$ was adjusted in order to meet the experimental values."
   ]
  },
  {
   "cell_type": "markdown",
   "metadata": {},
   "source": [
    "### Calibration case Table 5, *Eanos laden*\n",
    "\n",
    "Initial velocity $v_0 = 100 \\, \\frac{\\mathrm{km}}{\\mathrm{h}}$ yielding $s = 596\\,\\mathrm{m}$."
   ]
  },
  {
   "cell_type": "code",
   "execution_count": 134,
   "metadata": {},
   "outputs": [
    {
     "name": "stdout",
     "output_type": "stream",
     "text": [
      "Braking distance: 597.2 m\n"
     ]
    }
   ],
   "source": [
    "data = {'v0' : 100/3.6,\n",
    "        'mloco': 0,\n",
    "        'Floco': 0,\n",
    "        'lloco': 0, \n",
    "        'tfloco': 0,\n",
    "        'Gloco': 0,\n",
    "        'm' : [90000], # Mass of individual wagons\n",
    "        'mrot': [1.04], # Dynamic augment\n",
    "        'G' : [False], # G mode of individual wagon\n",
    "        'Cdia': [0.406], # Cylinder diameter\n",
    "        'p' : [3.8e5], \n",
    "        'l' : [14],\n",
    "        'i' : [5.65],\n",
    "        'eta' : [0.83],\n",
    "        'tf' : [4],\n",
    "        'n' : [16], # Number of brake blocks\n",
    "        'muc': [1] # Friction correction factor\n",
    "       }\n",
    "# Perform brake calculation\n",
    "s = ShuntingBrakeCalculation(data)\n",
    "# Print result\n",
    "print('Braking distance: ' +str(np.round(s, decimals = 1)) + ' m')"
   ]
  },
  {
   "cell_type": "markdown",
   "metadata": {},
   "source": [
    "### Calibration case Table 5, *Eanos empty*\n",
    "\n",
    "Initial velocity $v_0 = 100 \\, \\frac{\\mathrm{km}}{\\mathrm{h}}$ yielding $s = 421\\,\\mathrm{m}$."
   ]
  },
  {
   "cell_type": "code",
   "execution_count": 143,
   "metadata": {},
   "outputs": [
    {
     "name": "stdout",
     "output_type": "stream",
     "text": [
      "Braking distance: 422.8 m\n"
     ]
    }
   ],
   "source": [
    "data = {'v0' : 100/3.6,\n",
    "        'mloco': 0,\n",
    "        'Floco': 0,\n",
    "        'lloco': 0,\n",
    "        'tfloco': 0,\n",
    "        'Gloco': 0,\n",
    "        'm' : [25500], # Mass of individual wagons\n",
    "        'mrot': [1.15],\n",
    "        'G' : [False], # G mode of individual wagon\n",
    "        'Cdia': [0.406], # Cylinder diameter\n",
    "        'p' : [3.8e5], \n",
    "        'l' : [14],\n",
    "        'i' : [2.4],\n",
    "        'eta' : [0.83],\n",
    "        'tf' : [4],\n",
    "        'n' : [16], # Number of brake blocks\n",
    "        'muc': [1] # Friction correction factor\n",
    "       }\n",
    "# Perform brake calculation\n",
    "s = ShuntingBrakeCalculation(data)\n",
    "# Print result\n",
    "print('Braking distance: ' +str(np.round(s, decimals = 1)) + ' m')"
   ]
  },
  {
   "cell_type": "markdown",
   "metadata": {},
   "source": [
    "### Calibration case Table 5, *Eanos empty*\n",
    "\n",
    "Initial velocity $v_0 = 120 \\, \\frac{\\mathrm{km}}{\\mathrm{h}}$ yielding $s = 634\\,\\mathrm{m}$."
   ]
  },
  {
   "cell_type": "code",
   "execution_count": 144,
   "metadata": {},
   "outputs": [
    {
     "name": "stdout",
     "output_type": "stream",
     "text": [
      "Braking distance: 604.6 m\n"
     ]
    }
   ],
   "source": [
    "data = {'v0' : 120/3.6,\n",
    "        'mloco': 0,\n",
    "        'Floco': 0,\n",
    "        'lloco': 0,\n",
    "        'tfloco': 0,\n",
    "        'Gloco': 0,\n",
    "        'm' : [25500], # Mass of individual wagons\n",
    "        'mrot': [1.15], # Dynamic augment\n",
    "        'G' : [False], # G mode of individual wagon\n",
    "        'Cdia': [0.406], # Cylinder diameter\n",
    "        'p' : [3.8e5], \n",
    "        'l' : [14],\n",
    "        'i' : [2.4],\n",
    "        'eta' : [0.83],\n",
    "        'tf' : [4],\n",
    "        'n' : [16], # Number of brake blocks\n",
    "        'muc': [1] # Friction correction factor\n",
    "       }\n",
    "# Perform brake calculation\n",
    "s = ShuntingBrakeCalculation(data)\n",
    "# Print result\n",
    "print('Braking distance: ' +str(np.round(s, decimals = 1)) + ' m')"
   ]
  },
  {
   "cell_type": "markdown",
   "metadata": {},
   "source": [
    "### Calibration results\n",
    "\n",
    "The calibration on stopping distances from $v_0 = 100 \\, \\frac{\\mathrm{km}}{\\mathrm{h}}$ was executed and the prediction onto the braking distance from $v_0 = 120 \\, \\frac{\\mathrm{km}}{\\mathrm{h}}$ was possible with a deviation of app. 5%."
   ]
  },
  {
   "cell_type": "markdown",
   "metadata": {},
   "source": [
    "## Model validation\n",
    "\n",
    "The model calibrated as above is applied to replicate the braking distances for emergency braking derived from the Cantone and Ottati paper as given in Table 7."
   ]
  },
  {
   "cell_type": "markdown",
   "metadata": {},
   "source": [
    "### Case 800 t in brake mode P\n",
    "\n",
    "The resulting braking distances are 56.4 m and 51 m for P10 und LL blocks, respectively."
   ]
  },
  {
   "cell_type": "code",
   "execution_count": 148,
   "metadata": {
    "code_folding": []
   },
   "outputs": [
    {
     "name": "stdout",
     "output_type": "stream",
     "text": [
      "Braking distance: 56.0 m\n"
     ]
    }
   ],
   "source": [
    "N = 9\n",
    "data = {'v0' : 30/3.6,\n",
    "        'mloco': mLoco,\n",
    "        'Floco': FLoco,\n",
    "        'lloco': 10.5,\n",
    "        'tfloco': 4,\n",
    "        'Gloco': 0,\n",
    "        'm' : 90000*np.ones(N), # Mass of individual wagons\n",
    "        'mrot': 1.04*np.ones(N), # Dynamic augment\n",
    "        'G' : np.zeros(N), # G mode of individual wagon\n",
    "        'Cdia': 0.406*np.ones(N), # Cylinder diameter\n",
    "        'p' : 3.8e5*np.ones(N), \n",
    "        'l' : 14*np.ones(N),\n",
    "        'i' : 5.65*np.ones(N),\n",
    "        'eta' : 0.83*np.ones(N),\n",
    "        'tf' : 4*np.ones(N),\n",
    "        'n' : 16*np.ones(N), # Number of brake blocks\n",
    "        'muc': np.ones(N) # Friction correction factor\n",
    "   }\n",
    "# Perform brake calculation\n",
    "s = ShuntingBrakeCalculation(data)\n",
    "# Print result\n",
    "print('Braking distance: ' +str(np.round(s, decimals = 1)) + ' m')"
   ]
  },
  {
   "cell_type": "markdown",
   "metadata": {},
   "source": [
    "### Case 1200 t in brake mode GP\n",
    "\n",
    "Brake mode GP indicates that the leading vehicle runs in brake mode G while the remainder of the train uses brake mode P.\n",
    "\n",
    "The resulting braking distances are 58.4 m and 52.7 m for P10 und LL blocks, respectively."
   ]
  },
  {
   "cell_type": "code",
   "execution_count": 149,
   "metadata": {
    "code_folding": []
   },
   "outputs": [
    {
     "name": "stdout",
     "output_type": "stream",
     "text": [
      "Braking distance: 58.7 m\n"
     ]
    }
   ],
   "source": [
    "N = 13\n",
    "data = {'v0' : 30/3.6,\n",
    "        'mloco': mLoco,\n",
    "        'Floco': FLoco,\n",
    "        'lloco': 10.5,\n",
    "        'tfloco': 24,\n",
    "        'Gloco': 10,\n",
    "        'm' : 90000*np.ones(N), # Mass of individual wagons\n",
    "        'mrot': 1.04*np.ones(N), # Dynamic augment\n",
    "        'G' : [0, 0, 0, 0, 0, 0, 0, 0, 0, 0, 0, 0, 0], # G mode of individual wagon\n",
    "        'Cdia': 0.406*np.ones(N), # Cylinder diameter\n",
    "        'p' : 3.8e5*np.ones(N), \n",
    "        'l' : 14*np.ones(N),\n",
    "        'i' : 5.65*np.ones(N),\n",
    "        'eta' : 0.83*np.ones(N),\n",
    "        'tf' : [4, 4, 4, 4, 4, 4, 4, 4, 4, 4, 4, 4, 4],\n",
    "        'n' : 16*np.ones(N), # Number of brake blocks\n",
    "        'muc': np.ones(N) # Friction correction factor\n",
    "   }\n",
    "# Perform brake calculation\n",
    "s = ShuntingBrakeCalculation(data)\n",
    "# Print result\n",
    "print('Braking distance: ' +str(np.round(s, decimals = 1)) + ' m')"
   ]
  },
  {
   "cell_type": "markdown",
   "metadata": {},
   "source": [
    "### Case 1600 t in brake mode LL\n",
    "\n",
    "Brake mode LL indicates that the first five vehicles run in brake mode G while the remainder of the train uses brake mode P.\n",
    "\n",
    "The resulting braking distances are 66.1 m and 62 m for P10 und LL blocks, respectively."
   ]
  },
  {
   "cell_type": "code",
   "execution_count": 150,
   "metadata": {
    "code_folding": []
   },
   "outputs": [
    {
     "name": "stdout",
     "output_type": "stream",
     "text": [
      "Braking distance: 65.7 m\n"
     ]
    }
   ],
   "source": [
    "N = 18\n",
    "data = {'v0' : 30/3.6,\n",
    "        'mloco': mLoco,\n",
    "        'Floco': FLoco,\n",
    "        'lloco': 10.5,\n",
    "        'tfloco': 24,\n",
    "        'Gloco': 10,\n",
    "        'm' : 90000*np.ones(N), # Mass of individual wagons\n",
    "        'mrot': 1.04*np.ones(N), # Dynamic augment\n",
    "        'G' : [1, 1, 1, 1, 0, 0, 0, 0, 0, 0, 0, 0, 0, 0, 0, 0, 0, 0], # G mode of individual wagon\n",
    "        'Cdia': 0.406*np.ones(N), # Cylinder diameter\n",
    "        'p' : 3.8e5*np.ones(N), \n",
    "        'l' : 14*np.ones(N),\n",
    "        'i' : 5.65*np.ones(N),\n",
    "        'eta' : 0.83*np.ones(N),\n",
    "        'tf' : [24, 24, 24, 24, 4, 4, 4, 4, 4, 4, 4, 4, 4, 4, 4, 4, 4, 4],\n",
    "        'n' : 16*np.ones(N), # Number of brake blocks\n",
    "        'muc': np.ones(N) # Friction correction factor\n",
    "   }\n",
    "# Perform brake calculation\n",
    "s = ShuntingBrakeCalculation(data)\n",
    "# Print result\n",
    "print('Braking distance: ' +str(np.round(s, decimals = 1)) + ' m')"
   ]
  },
  {
   "cell_type": "markdown",
   "metadata": {},
   "source": [
    "### Case 2500 t in brake mode G\n",
    "\n",
    "The resulting braking distances are 88.4 m and 92.3 m for P10 und LL blocks, respectively."
   ]
  },
  {
   "cell_type": "code",
   "execution_count": 262,
   "metadata": {
    "code_folding": []
   },
   "outputs": [
    {
     "name": "stdout",
     "output_type": "stream",
     "text": [
      "Braking distance: 101.1 m\n"
     ]
    }
   ],
   "source": [
    "N = 28\n",
    "data = {'v0' : 30/3.6,\n",
    "        'mloco': mLoco,\n",
    "        'Floco': FLoco,\n",
    "        'lloco': 10.5,\n",
    "        'tfloco': 24,\n",
    "        'Gloco': 10,\n",
    "        'm' : 90000*np.ones(N), # Mass of individual wagons\n",
    "        'mrot': 1.04*np.ones(N), # Dynamic augment\n",
    "        'G' : np.ones(N), # G mode of individual wagon\n",
    "        'Cdia': 0.406*np.ones(N), # Cylinder diameter\n",
    "        'p' : 3.8e5*np.ones(N), \n",
    "        'l' : 14*np.ones(N),\n",
    "        'i' : 5.65*np.ones(N),\n",
    "        'eta' : 0.83*np.ones(N),\n",
    "        'tf' : 24*np.ones(N),\n",
    "        'n' : 16*np.ones(N), # Number of brake blocks\n",
    "        'muc': np.ones(N) # Friction correction factor\n",
    "   }\n",
    "# Perform brake calculation\n",
    "s = ShuntingBrakeCalculation(data)\n",
    "# Print result\n",
    "print('Braking distance: ' +str(np.round(s, decimals = 1)) + ' m')"
   ]
  },
  {
   "cell_type": "markdown",
   "metadata": {},
   "source": [
    "### Conclusion on Validation\n",
    "\n",
    "The developed model is able to meet the published values reasonably well, taking into account that modern K blocks are assumed as friction elements."
   ]
  },
  {
   "cell_type": "markdown",
   "metadata": {},
   "source": [
    "## Application of Monte Carlo Simulation\n",
    "\n",
    "This code calculates $M$ braking distances of a train formed of $N$ wagons using randomised values with the tolerances for\n",
    "\n",
    "- Filling time\n",
    "- Cylinder pressure\n",
    "- Rigging efficiency\n",
    "- Friction coefficient (via correction factor)"
   ]
  },
  {
   "cell_type": "code",
   "execution_count": 304,
   "metadata": {
    "code_folding": [],
    "scrolled": false
   },
   "outputs": [
    {
     "name": "stdout",
     "output_type": "stream",
     "text": [
      "Mean: 59.24435940714564\n",
      "SD  : 0.6835044585676803\n",
      "Longest: 61.75640041226128\n",
      "p(s> 59m) = 0.6437\n",
      "p(s> 60m) = 0.1346\n",
      "p(s> 61m) = 0.0039\n",
      "p(s> 62m) = 0.0\n",
      "p(s> 63m) = 0.0\n",
      "Time: 631.4 s\n"
     ]
    },
    {
     "data": {
      "image/png": "[encoded data removed]",
      "text/plain": [
       "<Figure size 432x288 with 1 Axes>"
      ]
     },
     "metadata": {},
     "output_type": "display_data"
    }
   ],
   "source": [
    "start = time.time()\n",
    "np.random.seed(42) # Fix seed\n",
    "v0 = 25/3.6\n",
    "N = 5 # Number of wagons\n",
    "M = 1e4 # Number of MC iterations\n",
    "# Critical distances\n",
    "distcrit = [59, 60, 61, 62, 63]\n",
    "slist = [] # List for storage of individual distances\n",
    "for k in range(int(M)):\n",
    "    # Generate random data\n",
    "    data = {'v0' : v0,\n",
    "            'mloco': mLoco,\n",
    "            'Floco': FLoco,\n",
    "            'lloco': 10.5,\n",
    "            'tfloco': 4,\n",
    "            'Gloco': 1,\n",
    "            'm' : 90000*np.ones(N), # Mass of individual wagons\n",
    "            'mrot': 1.04*np.ones(N), # Dynamic augment\n",
    "            'G' : np.ones(N), # G mode of individual wagon\n",
    "            'Cdia': 0.406*np.ones(N), # Cylinder diameter\n",
    "            'p' : np.random.normal(loc = 3.8e5, scale = 5e3, size = N),\n",
    "            'l' : 14*np.ones(N),\n",
    "            'i' : 5.65*np.ones(N), #4 axle, loaded\n",
    "            'eta' : np.random.normal(loc = 0.83, scale = 0.02, size = N),\n",
    "            'tf' : np.random.normal(loc = 24, scale = 2, size = N),\n",
    "            'n' : 16*np.ones(N), # Number of brake blocks\n",
    "            'muc': np.random.normal(loc = 1, scale = 0.025, size = N) # Friction correction factor\n",
    "           }\n",
    "    # Perform brake calculation\n",
    "    s = ShuntingBrakeCalculation(data)\n",
    "    # Append result to list\n",
    "    slist.append(s)\n",
    "elapsed = time.time()-start\n",
    "# Plot histogram\n",
    "sns.histplot(slist, kde = True, cumulative=True, stat = 'probability', \n",
    "             color = 'seagreen', label = 'Cumulative Density', bins = 20)\n",
    "sns.histplot(slist, kde = True, stat = 'probability', \n",
    "             color = 'navy', label = 'Probability Density', bins = 20)\n",
    "plt.ylabel('Probability')\n",
    "plt.xlabel('s/m')\n",
    "plt.savefig('plots/Class363' + str(N) + \n",
    "            'WagonsP'+str(round(v0))+\n",
    "            'M' + str(M) +'.pdf')\n",
    "# Print statistical values\n",
    "print('Mean: ' + str(np.mean(slist)))\n",
    "print('SD  : ' + str(np.std(slist)))\n",
    "ssorted = np.sort(slist)\n",
    "if M >= 1e7:\n",
    "    print('p = 1e-5 for: ' + str(ssorted[-101]))\n",
    "print('Longest: ' + str(ssorted[-1]))\n",
    "# Analyse for relative frequency of braking distance above threshold\n",
    "df = pd.DataFrame(columns = ['s', 'p'])\n",
    "for d in distcrit:\n",
    "    p, b = np.histogram(slist, bins = [0, d, 1e6])\n",
    "    p = p/M\n",
    "    print('p(s> ' + str(d) + 'm) = ' + str(p[1]))\n",
    "    df.loc[len(df.index)] = [d, p[1]]\n",
    "df.to_excel('plots/Class363' + str(N) + \n",
    "            'WagonsG'+str(round(v0))+\n",
    "            'M' + str(M) +'.xlsx', index=False)\n",
    "print('Time: ' + str(np.round(elapsed, decimals = 2)) + ' s')\n",
    "df2 = pd.DataFrame(data = slist, columns = ['s'])\n",
    "# Save data to file\n",
    "df2.to_csv('plots/Class363' + str(N) + \n",
    "            'WagonsG'+str(round(v0))+\n",
    "            'M' + str(M) +'Distances.csv')"
   ]
  },
  {
   "cell_type": "markdown",
   "metadata": {},
   "source": [
    "### Comparison to UIC 544-1, App. H\n",
    "\n",
    "The simulated braking distances are compared to those resulting from calculcation acc. to App. H, Eq. 13."
   ]
  },
  {
   "cell_type": "code",
   "execution_count": 266,
   "metadata": {},
   "outputs": [
    {
     "name": "stdout",
     "output_type": "stream",
     "text": [
      "Mean deceleration: 0.5635 m/s/s\n",
      "Braking distance: 4.489412512186839 m\n"
     ]
    }
   ],
   "source": [
    "lambdawagon = 65\n",
    "v0 = 5/3.6\n",
    "tf = 4\n",
    "d = 0.0075*lambdawagon + 0.076\n",
    "s = v0**2/(2*d) + v0*tf/2\n",
    "print('Mean deceleration: ' + str(d) + ' m/s/s')\n",
    "print('Braking distance: ' + str(s) + ' m')"
   ]
  }
 ],
 "metadata": {
  "kernelspec": {
   "display_name": "Python 3",
   "language": "python",
   "name": "python3"
  },
  "language_info": {
   "codemirror_mode": {
    "name": "ipython",
    "version": 3
   },
   "file_extension": ".py",
   "mimetype": "text/x-python",
   "name": "python",
   "nbconvert_exporter": "python",
   "pygments_lexer": "ipython3",
   "version": "3.8.3"
  }
 },
 "nbformat": 4,
 "nbformat_minor": 4
}
